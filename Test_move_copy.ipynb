{
 "cells": [
  {
   "cell_type": "code",
   "execution_count": 27,
   "id": "47938c91",
   "metadata": {},
   "outputs": [],
   "source": [
    "import os\n",
    "import csv\n",
    "import shutil\n",
    "\n",
    "from_dir = \"D:/Test\"\n",
    "csv_file_path = \"D:/Test/test.csv\"\n",
    "to_dir = \"D:/Test\"\n"
   ]
  },
  {
   "cell_type": "code",
   "execution_count": 28,
   "id": "e01f392a",
   "metadata": {},
   "outputs": [
    {
     "name": "stdout",
     "output_type": "stream",
     "text": [
      "File copied to D:/Test\\ex2\\a\n",
      "File copied to D:/Test\\ex2\\a\n",
      "File copied to D:/Test\\ex2\\b\n",
      "File copied to D:/Test\\ex2\\b\n"
     ]
    }
   ],
   "source": [
    "# Read the CSV file\n",
    "with open(csv_file_path, \"r\") as file:\n",
    "    reader = csv.DictReader(file)\n",
    "    for row in reader:\n",
    "        # Get the source file path\n",
    "        source_path = os.path.join(from_dir, row[\"from\"], row[\"case\"])\n",
    "               \n",
    "        # Check if the source file exists\n",
    "        if not os.path.exists(source_path):\n",
    "            print(f\"Source file not found: {source_path}\")\n",
    "            continue\n",
    "        \n",
    "        #Get the destination folder path\n",
    "        destination_folder = os.path.join(to_dir, row[\"to\"])\n",
    "        \n",
    "        # Create the destination folder if it does not exist\n",
    "        os.makedirs(destination_folder, exist_ok=True)\n",
    "\n",
    "        # Copy the folder to the new location\n",
    "        shutil.copytree(source_path, os.path.join(destination_folder, row[\"case\"]))\n",
    "        \n",
    "        print(f\"File copied to {destination_folder}\")"
   ]
  },
  {
   "cell_type": "code",
   "execution_count": null,
   "id": "76724ced",
   "metadata": {},
   "outputs": [],
   "source": [
    "# Read the CSV file\n",
    "with open(csv_file_path, \"r\") as file:\n",
    "    reader = csv.DictReader(file)\n",
    "    for row in reader:\n",
    "        # Get the source file path\n",
    "        source_path = os.path.join(from_dir, '200', row[\"from\"], row[\"case\"])\n",
    "        \n",
    "        # Check if the source file exists\n",
    "        if not os.path.exists(source_path):\n",
    "            print(f\"Source file not found: {source_path}\")\n",
    "            continue\n",
    "        \n",
    "        #Get the destination folder path\n",
    "        destination_folder = os.path.join(to_dir, '200', row[\"to\"])\n",
    "        \n",
    "        # Generate the new file path\n",
    "        new_file_path = os.path.join(destination_folder, row[\"case\"])\n",
    "        \n",
    "        # Copy the file to the new location\n",
    "        shutil.copy2(source_path, new_file_path)\n",
    "        \n",
    "        print(f\"File copied to {new_file_path}\")"
   ]
  }
 ],
 "metadata": {
  "kernelspec": {
   "display_name": "Py37_ML",
   "language": "python",
   "name": "py37_ml"
  },
  "language_info": {
   "codemirror_mode": {
    "name": "ipython",
    "version": 3
   },
   "file_extension": ".py",
   "mimetype": "text/x-python",
   "name": "python",
   "nbconvert_exporter": "python",
   "pygments_lexer": "ipython3",
   "version": "3.7.8"
  }
 },
 "nbformat": 4,
 "nbformat_minor": 5
}
